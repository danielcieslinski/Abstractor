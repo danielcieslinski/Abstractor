{
 "cells": [
  {
   "cell_type": "code",
   "execution_count": 1,
   "metadata": {},
   "outputs": [],
   "source": [
    "import numpy as np\n",
    "from os import listdir\n",
    "from os import path\n",
    "import json\n",
    "import matplotlib.pyplot as plt\n",
    "from matplotlib import colors\n",
    "import pickle"
   ]
  },
  {
   "cell_type": "code",
   "execution_count": 2,
   "metadata": {},
   "outputs": [],
   "source": [
    "from learn import *\n",
    "import utils"
   ]
  },
  {
   "cell_type": "code",
   "execution_count": 3,
   "metadata": {},
   "outputs": [
    {
     "name": "stdout",
     "output_type": "stream",
     "text": [
      "Task number: 298\n",
      "Number of train examples 2\n",
      "0\n",
      "     input shapes [(6, 6), (6, 6)]\n",
      "     output shapes [(6, 6), (6, 6)]\n"
     ]
    },
    {
     "data": {
      "image/png": "[encoded data removed]",
      "text/plain": [
       "<Figure size 600x400 with 6 Axes>"
      ]
     },
     "metadata": {
      "needs_background": "light"
     },
     "output_type": "display_data"
    }
   ],
   "source": [
    "tr, te, ev = utils.get_data()\n",
    "t = Task(298, tr[298])\n",
    "t.summary()\n",
    "t.plot()"
   ]
  },
  {
   "cell_type": "code",
   "execution_count": 4,
   "metadata": {},
   "outputs": [],
   "source": [
    "IM = t.train[0].input"
   ]
  },
  {
   "cell_type": "code",
   "execution_count": 5,
   "metadata": {},
   "outputs": [
    {
     "data": {
      "text/plain": [
       "array([[2, 2, 2, 2, 10, 2],\n",
       "       [2, 2, 2, 2, 10, 2],\n",
       "       [4, 4, 2, 2, 2, 2],\n",
       "       [2, 2, 2, 2, 2, 2],\n",
       "       [2, 2, 2, 2, 2, 2],\n",
       "       [2, 2, 2, 2, 2, 2]], dtype=object)"
      ]
     },
     "execution_count": 5,
     "metadata": {},
     "output_type": "execute_result"
    }
   ],
   "source": [
    "IM + 2"
   ]
  },
  {
   "cell_type": "code",
   "execution_count": 6,
   "metadata": {},
   "outputs": [
    {
     "data": {
      "text/plain": [
       "array([[0, 0, 0, 0, 8, 0],\n",
       "       [0, 0, 0, 0, 8, 0],\n",
       "       [2, 2, 0, 0, 0, 0],\n",
       "       [0, 0, 0, 0, 0, 0],\n",
       "       [0, 0, 0, 0, 0, 0],\n",
       "       [0, 0, 0, 0, 0, 0]], dtype=object)"
      ]
     },
     "execution_count": 6,
     "metadata": {},
     "output_type": "execute_result"
    }
   ],
   "source": [
    "IM.m"
   ]
  },
  {
   "cell_type": "code",
   "execution_count": 7,
   "metadata": {},
   "outputs": [
    {
     "data": {
      "text/plain": [
       "(2, 8)"
      ]
     },
     "execution_count": 7,
     "metadata": {},
     "output_type": "execute_result"
    }
   ],
   "source": [
    "cell = IM[0][0].copy()\n",
    "shape = np.shape(IM)\n",
    "shape = (2, 8)\n",
    "shape"
   ]
  },
  {
   "cell_type": "code",
   "execution_count": 8,
   "metadata": {},
   "outputs": [
    {
     "data": {
      "text/plain": [
       "array([[0, 1, 2, 3, 4, 5, 6, 7],\n",
       "       [0, 1, 2, 3, 4, 5, 6, 7]])"
      ]
     },
     "execution_count": 8,
     "metadata": {},
     "output_type": "execute_result"
    }
   ],
   "source": [
    "cx, cy, cv = cell.x, cell.y, cell.v\n",
    "def xy_matrices(shape):\n",
    "    y,x = shape\n",
    "    f = lambda a, b: np.repeat(np.arange(a), b).reshape((a,b))\n",
    "    return f(y, x), f(x, y).T\n",
    "\n",
    "ym, xm = xy_matrices(shape)\n",
    "xm"
   ]
  },
  {
   "cell_type": "code",
   "execution_count": 9,
   "metadata": {},
   "outputs": [
    {
     "data": {
      "text/plain": [
       "array([[3., 4., 3., 2., 1., 0., 1., 2.],\n",
       "       [3., 4., 3., 2., 1., 0., 1., 2.]])"
      ]
     },
     "execution_count": 9,
     "metadata": {},
     "output_type": "execute_result"
    }
   ],
   "source": [
    "# To get dist at specific index\n",
    "i = 5\n",
    "cell_dist_x_mat = abs(abs(xm.copy() - shape[1] / 2) - shape[1]/2) \n",
    "np.roll(cell_dist_x_mat, i)"
   ]
  },
  {
   "cell_type": "code",
   "execution_count": 10,
   "metadata": {},
   "outputs": [
    {
     "data": {
      "text/plain": [
       "0"
      ]
     },
     "execution_count": 10,
     "metadata": {},
     "output_type": "execute_result"
    }
   ],
   "source": [
    "Cell(2, 4, 0)"
   ]
  },
  {
   "cell_type": "code",
   "execution_count": 11,
   "metadata": {},
   "outputs": [],
   "source": [
    "def xy_maps(y, x):\n",
    "    f = lambda a, b: np.repeat(np.arange(a), b).reshape((a, b))\n",
    "    return f(y, x), f(x, y).T.copy()"
   ]
  },
  {
   "cell_type": "code",
   "execution_count": 12,
   "metadata": {},
   "outputs": [],
   "source": [
    "y, x = 7, 5\n",
    "ys, xs = 1, 3\n",
    "ym, xm = xy_maps(y, x)"
   ]
  },
  {
   "cell_type": "code",
   "execution_count": 13,
   "metadata": {},
   "outputs": [
    {
     "data": {
      "text/plain": [
       "array([[0, 1, 2, 3, 4],\n",
       "       [0, 1, 2, 3, 4],\n",
       "       [0, 1, 2, 3, 4],\n",
       "       [0, 1, 2, 3, 4],\n",
       "       [0, 1, 2, 3, 4],\n",
       "       [0, 1, 2, 3, 4],\n",
       "       [0, 1, 2, 3, 4]])"
      ]
     },
     "execution_count": 13,
     "metadata": {},
     "output_type": "execute_result"
    }
   ],
   "source": [
    "xm"
   ]
  },
  {
   "cell_type": "code",
   "execution_count": 14,
   "metadata": {},
   "outputs": [
    {
     "data": {
      "text/plain": [
       "array([[0, 0, 0, 0, 0],\n",
       "       [1, 1, 1, 1, 1],\n",
       "       [2, 2, 2, 2, 2],\n",
       "       [3, 3, 3, 3, 3],\n",
       "       [4, 4, 4, 4, 4],\n",
       "       [5, 5, 5, 5, 5],\n",
       "       [6, 6, 6, 6, 6]])"
      ]
     },
     "execution_count": 14,
     "metadata": {},
     "output_type": "execute_result"
    }
   ],
   "source": [
    "ym"
   ]
  },
  {
   "cell_type": "code",
   "execution_count": 15,
   "metadata": {},
   "outputs": [],
   "source": [
    "def xy_diffs(ym, xm):\n",
    "    # TODO axis why\n",
    "    df = lambda m, s, i, a: np.roll(abs(abs(m - s // 2) - s / 2), i, axis=a)\n",
    "    return df(ym, y, ys, 0), df(xm, x, xs, 1) #t comes for shift type"
   ]
  },
  {
   "cell_type": "code",
   "execution_count": 16,
   "metadata": {},
   "outputs": [],
   "source": [
    "dym, dxm = xy_diffs(ym, xm)"
   ]
  },
  {
   "cell_type": "code",
   "execution_count": 31,
   "metadata": {},
   "outputs": [],
   "source": [
    "from math import ceil"
   ]
  },
  {
   "cell_type": "code",
   "execution_count": 36,
   "metadata": {},
   "outputs": [
    {
     "data": {
      "text/plain": [
       "6"
      ]
     },
     "execution_count": 36,
     "metadata": {},
     "output_type": "execute_result"
    }
   ],
   "source": [
    "ysh, xsh = np.shape(IM)\n",
    "ysh"
   ]
  },
  {
   "cell_type": "code",
   "execution_count": 74,
   "metadata": {},
   "outputs": [
    {
     "data": {
      "text/plain": [
       "(6, 6, 6, 6, 9)"
      ]
     },
     "execution_count": 74,
     "metadata": {},
     "output_type": "execute_result"
    }
   ],
   "source": [
    "from feature_calc import FeatureCalculator\n",
    "from itertools import product\n",
    "\n",
    "features = []\n",
    "\n",
    "for y, x in product(range(ysh), range(xsh)):\n",
    "    c = IM[y][x]\n",
    "    fc = FeatureCalculator(c.y, c.x, c.v, IM)\n",
    "    features.append(fc.features().T)\n",
    "#     print(y,x)\n",
    "#     features[y,x] = fc.features()\n",
    "\n",
    "f = np.array(features)\n",
    "f = np.reshape(f, (ysh, xsh, *f.shape[1:]))\n",
    "f.shape"
   ]
  },
  {
   "cell_type": "code",
   "execution_count": 75,
   "metadata": {},
   "outputs": [
    {
     "data": {
      "text/plain": [
       "array([[[0, 0, True, False, False, 0, 0, 0, 0],\n",
       "        [1, 0, True, False, False, 0, 0, 0, 0],\n",
       "        [2, 0, False, False, True, 0, 2, 2, 2],\n",
       "        [3, 0, True, False, False, 0, 0, 0, 0],\n",
       "        [2, 0, True, False, False, 0, 0, 0, 0],\n",
       "        [1, 0, True, False, False, 0, 0, 0, 0]],\n",
       "\n",
       "       [[0, 1, True, False, False, 0, 0, 0, 0],\n",
       "        [1, 1, True, False, False, 0, 0, 0, 0],\n",
       "        [2, 1, False, False, True, 0, 2, 2, 2],\n",
       "        [3, 1, True, False, False, 0, 0, 0, 0],\n",
       "        [2, 1, True, False, False, 0, 0, 0, 0],\n",
       "        [1, 1, True, False, False, 0, 0, 0, 0]],\n",
       "\n",
       "       [[0, 2, True, False, False, 0, 0, 0, 0],\n",
       "        [1, 2, True, False, False, 0, 0, 0, 0],\n",
       "        [2, 2, True, False, False, 0, 0, 0, 0],\n",
       "        [3, 2, True, False, False, 0, 0, 0, 0],\n",
       "        [2, 2, True, False, False, 0, 0, 0, 0],\n",
       "        [1, 2, True, False, False, 0, 0, 0, 0]],\n",
       "\n",
       "       [[0, 3, True, False, False, 0, 0, 0, 0],\n",
       "        [1, 3, True, False, False, 0, 0, 0, 0],\n",
       "        [2, 3, True, False, False, 0, 0, 0, 0],\n",
       "        [3, 3, True, False, False, 0, 0, 0, 0],\n",
       "        [2, 3, True, False, False, 0, 0, 0, 0],\n",
       "        [1, 3, True, False, False, 0, 0, 0, 0]],\n",
       "\n",
       "       [[0, 2, False, False, True, 0, 8, 8, 8],\n",
       "        [1, 2, False, False, True, 0, 8, 8, 8],\n",
       "        [2, 2, True, False, False, 0, 0, 0, 0],\n",
       "        [3, 2, True, False, False, 0, 0, 0, 0],\n",
       "        [2, 2, True, False, False, 0, 0, 0, 0],\n",
       "        [1, 2, True, False, False, 0, 0, 0, 0]],\n",
       "\n",
       "       [[0, 1, True, False, False, 0, 0, 0, 0],\n",
       "        [1, 1, True, False, False, 0, 0, 0, 0],\n",
       "        [2, 1, True, False, False, 0, 0, 0, 0],\n",
       "        [3, 1, True, False, False, 0, 0, 0, 0],\n",
       "        [2, 1, True, False, False, 0, 0, 0, 0],\n",
       "        [1, 1, True, False, False, 0, 0, 0, 0]]], dtype=object)"
      ]
     },
     "execution_count": 75,
     "metadata": {},
     "output_type": "execute_result"
    }
   ],
   "source": [
    "f[0,0]"
   ]
  },
  {
   "cell_type": "code",
   "execution_count": 30,
   "metadata": {},
   "outputs": [
    {
     "data": {
      "text/plain": [
       "2"
      ]
     },
     "execution_count": 30,
     "metadata": {},
     "output_type": "execute_result"
    }
   ],
   "source": [
    "fc.v"
   ]
  },
  {
   "cell_type": "code",
   "execution_count": null,
   "metadata": {},
   "outputs": [],
   "source": []
  },
  {
   "cell_type": "code",
   "execution_count": null,
   "metadata": {},
   "outputs": [],
   "source": []
  },
  {
   "cell_type": "code",
   "execution_count": null,
   "metadata": {},
   "outputs": [],
   "source": []
  }
 ],
 "metadata": {
  "kernelspec": {
   "display_name": "Python 3",
   "language": "python",
   "name": "python3"
  },
  "language_info": {
   "codemirror_mode": {
    "name": "ipython",
    "version": 3
   },
   "file_extension": ".py",
   "mimetype": "text/x-python",
   "name": "python",
   "nbconvert_exporter": "python",
   "pygments_lexer": "ipython3",
   "version": "3.7.3"
  }
 },
 "nbformat": 4,
 "nbformat_minor": 2
}

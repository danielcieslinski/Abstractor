{
 "cells": [
  {
   "cell_type": "code",
   "execution_count": 67,
   "metadata": {},
   "outputs": [],
   "source": [
    "import numpy as np\n",
    "from os import listdir\n",
    "from os import path\n",
    "import json\n",
    "import matplotlib.pyplot as plt\n",
    "from matplotlib import colors\n",
    "import pickle"
   ]
  },
  {
   "cell_type": "code",
   "execution_count": 68,
   "metadata": {},
   "outputs": [],
   "source": [
    "def load_folder(folder):\n",
    "    x = []\n",
    "\n",
    "    files = sorted(listdir(folder))\n",
    "    for f in files:\n",
    "        with open(folder+f)as fl:\n",
    "            x.append(json.load(fl))\n",
    "    return x"
   ]
  },
  {
   "cell_type": "code",
   "execution_count": 69,
   "metadata": {},
   "outputs": [],
   "source": [
    "def get_data(relpath='../res/'):\n",
    "    \"\"\"\n",
    "    :param relpath: relative path to resource folder\n",
    "    :return: train, test, eval lists\n",
    "    \"\"\"\n",
    "\n",
    "    if path.exists(relpath + 'data.pickle'):\n",
    "        with open(relpath+'data.pickle','rb') as f:\n",
    "            return pickle.load(f)\n",
    "\n",
    "\n",
    "    data = [] #Must be: [tr, te, ev]\n",
    "    for t in ['training/', 'evaluation/', 'test/']:\n",
    "        p = relpath+t\n",
    "        data.append(load_folder(p))\n",
    "\n",
    "    with open(relpath+'data.pickle', 'wb') as f:\n",
    "        pickle.dump(data, f)\n",
    "\n",
    "    return data"
   ]
  },
  {
   "cell_type": "code",
   "execution_count": 70,
   "metadata": {},
   "outputs": [],
   "source": [
    "tr, te, ev = get_data()"
   ]
  },
  {
   "cell_type": "code",
   "execution_count": 73,
   "metadata": {},
   "outputs": [
    {
     "data": {
      "text/plain": [
       "dict_keys(['test', 'train'])"
      ]
     },
     "execution_count": 73,
     "metadata": {},
     "output_type": "execute_result"
    }
   ],
   "source": [
    "t = tr[0]\n",
    "t.keys()"
   ]
  },
  {
   "cell_type": "code",
   "execution_count": 76,
   "metadata": {},
   "outputs": [
    {
     "data": {
      "text/plain": [
       "[{'input': [[0, 7, 7], [7, 7, 7], [0, 7, 7]],\n",
       "  'output': [[0, 0, 0, 0, 7, 7, 0, 7, 7],\n",
       "   [0, 0, 0, 7, 7, 7, 7, 7, 7],\n",
       "   [0, 0, 0, 0, 7, 7, 0, 7, 7],\n",
       "   [0, 7, 7, 0, 7, 7, 0, 7, 7],\n",
       "   [7, 7, 7, 7, 7, 7, 7, 7, 7],\n",
       "   [0, 7, 7, 0, 7, 7, 0, 7, 7],\n",
       "   [0, 0, 0, 0, 7, 7, 0, 7, 7],\n",
       "   [0, 0, 0, 7, 7, 7, 7, 7, 7],\n",
       "   [0, 0, 0, 0, 7, 7, 0, 7, 7]]},\n",
       " {'input': [[4, 0, 4], [0, 0, 0], [0, 4, 0]],\n",
       "  'output': [[4, 0, 4, 0, 0, 0, 4, 0, 4],\n",
       "   [0, 0, 0, 0, 0, 0, 0, 0, 0],\n",
       "   [0, 4, 0, 0, 0, 0, 0, 4, 0],\n",
       "   [0, 0, 0, 0, 0, 0, 0, 0, 0],\n",
       "   [0, 0, 0, 0, 0, 0, 0, 0, 0],\n",
       "   [0, 0, 0, 0, 0, 0, 0, 0, 0],\n",
       "   [0, 0, 0, 4, 0, 4, 0, 0, 0],\n",
       "   [0, 0, 0, 0, 0, 0, 0, 0, 0],\n",
       "   [0, 0, 0, 0, 4, 0, 0, 0, 0]]},\n",
       " {'input': [[0, 0, 0], [0, 0, 2], [2, 0, 2]],\n",
       "  'output': [[0, 0, 0, 0, 0, 0, 0, 0, 0],\n",
       "   [0, 0, 0, 0, 0, 0, 0, 0, 0],\n",
       "   [0, 0, 0, 0, 0, 0, 0, 0, 0],\n",
       "   [0, 0, 0, 0, 0, 0, 0, 0, 0],\n",
       "   [0, 0, 0, 0, 0, 0, 0, 0, 2],\n",
       "   [0, 0, 0, 0, 0, 0, 2, 0, 2],\n",
       "   [0, 0, 0, 0, 0, 0, 0, 0, 0],\n",
       "   [0, 0, 2, 0, 0, 0, 0, 0, 2],\n",
       "   [2, 0, 2, 0, 0, 0, 2, 0, 2]]},\n",
       " {'input': [[6, 6, 0], [6, 0, 0], [0, 6, 6]],\n",
       "  'output': [[6, 6, 0, 6, 6, 0, 0, 0, 0],\n",
       "   [6, 0, 0, 6, 0, 0, 0, 0, 0],\n",
       "   [0, 6, 6, 0, 6, 6, 0, 0, 0],\n",
       "   [6, 6, 0, 0, 0, 0, 0, 0, 0],\n",
       "   [6, 0, 0, 0, 0, 0, 0, 0, 0],\n",
       "   [0, 6, 6, 0, 0, 0, 0, 0, 0],\n",
       "   [0, 0, 0, 6, 6, 0, 6, 6, 0],\n",
       "   [0, 0, 0, 6, 0, 0, 6, 0, 0],\n",
       "   [0, 0, 0, 0, 6, 6, 0, 6, 6]]},\n",
       " {'input': [[2, 2, 2], [0, 0, 0], [0, 2, 2]],\n",
       "  'output': [[2, 2, 2, 2, 2, 2, 2, 2, 2],\n",
       "   [0, 0, 0, 0, 0, 0, 0, 0, 0],\n",
       "   [0, 2, 2, 0, 2, 2, 0, 2, 2],\n",
       "   [0, 0, 0, 0, 0, 0, 0, 0, 0],\n",
       "   [0, 0, 0, 0, 0, 0, 0, 0, 0],\n",
       "   [0, 0, 0, 0, 0, 0, 0, 0, 0],\n",
       "   [0, 0, 0, 2, 2, 2, 2, 2, 2],\n",
       "   [0, 0, 0, 0, 0, 0, 0, 0, 0],\n",
       "   [0, 0, 0, 0, 2, 2, 0, 2, 2]]}]"
      ]
     },
     "execution_count": 76,
     "metadata": {},
     "output_type": "execute_result"
    }
   ],
   "source": [
    "t['train']"
   ]
  },
  {
   "cell_type": "code",
   "execution_count": 75,
   "metadata": {},
   "outputs": [
    {
     "ename": "TypeError",
     "evalue": "'module' object is not callable",
     "output_type": "error",
     "traceback": [
      "\u001b[0;31m---------------------------------------------------------------------------\u001b[0m",
      "\u001b[0;31mTypeError\u001b[0m                                 Traceback (most recent call last)",
      "\u001b[0;32m<ipython-input-75-7e3383d940c5>\u001b[0m in \u001b[0;36m<module>\u001b[0;34m\u001b[0m\n\u001b[0;32m----> 1\u001b[0;31m \u001b[0mdescribe_json\u001b[0m\u001b[0;34m(\u001b[0m\u001b[0mtr\u001b[0m\u001b[0;34m)\u001b[0m\u001b[0;34m\u001b[0m\u001b[0;34m\u001b[0m\u001b[0m\n\u001b[0m",
      "\u001b[0;31mTypeError\u001b[0m: 'module' object is not callable"
     ]
    }
   ],
   "source": [
    "describe_json(tr)"
   ]
  },
  {
   "cell_type": "code",
   "execution_count": null,
   "metadata": {},
   "outputs": [],
   "source": []
  }
 ],
 "metadata": {
  "kernelspec": {
   "display_name": "Python 3",
   "language": "python",
   "name": "python3"
  },
  "language_info": {
   "codemirror_mode": {
    "name": "ipython",
    "version": 3
   },
   "file_extension": ".py",
   "mimetype": "text/x-python",
   "name": "python",
   "nbconvert_exporter": "python",
   "pygments_lexer": "ipython3",
   "version": "3.7.3"
  }
 },
 "nbformat": 4,
 "nbformat_minor": 2
}
